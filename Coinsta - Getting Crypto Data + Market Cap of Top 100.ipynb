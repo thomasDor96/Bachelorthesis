{
 "cells": [
  {
   "cell_type": "markdown",
   "metadata": {},
   "source": [
    "### https://github.com/PyDataBlog/Coinsta"
   ]
  },
  {
   "cell_type": "code",
   "execution_count": 8,
   "metadata": {},
   "outputs": [
    {
     "name": "stdout",
     "output_type": "stream",
     "text": [
      "Requirement already satisfied: coinsta in /srv/conda/lib/python3.6/site-packages\n",
      "Requirement already satisfied: lxml~=4.2.2 in /srv/conda/lib/python3.6/site-packages (from coinsta)\n",
      "Requirement already satisfied: requests~=2.19.1 in /srv/conda/lib/python3.6/site-packages (from coinsta)\n",
      "Requirement already satisfied: pandas~=0.23.1 in /srv/conda/lib/python3.6/site-packages (from coinsta)\n",
      "Requirement already satisfied: idna<2.8,>=2.5 in /srv/conda/lib/python3.6/site-packages (from requests~=2.19.1->coinsta)\n",
      "Requirement already satisfied: certifi>=2017.4.17 in /srv/conda/lib/python3.6/site-packages (from requests~=2.19.1->coinsta)\n",
      "Requirement already satisfied: chardet<3.1.0,>=3.0.2 in /srv/conda/lib/python3.6/site-packages (from requests~=2.19.1->coinsta)\n",
      "Requirement already satisfied: urllib3<1.24,>=1.21.1 in /srv/conda/lib/python3.6/site-packages (from requests~=2.19.1->coinsta)\n",
      "Requirement already satisfied: pytz>=2011k in /srv/conda/lib/python3.6/site-packages (from pandas~=0.23.1->coinsta)\n",
      "Requirement already satisfied: python-dateutil>=2.5.0 in /srv/conda/lib/python3.6/site-packages (from pandas~=0.23.1->coinsta)\n",
      "Requirement already satisfied: numpy>=1.9.0 in /srv/conda/lib/python3.6/site-packages (from pandas~=0.23.1->coinsta)\n",
      "Requirement already satisfied: six>=1.5 in /srv/conda/lib/python3.6/site-packages (from python-dateutil>=2.5.0->pandas~=0.23.1->coinsta)\n",
      "\u001b[33mYou are using pip version 9.0.3, however version 18.0 is available.\n",
      "You should consider upgrading via the 'pip install --upgrade pip' command.\u001b[0m\n"
     ]
    }
   ],
   "source": [
    "!pip install coinsta"
   ]
  },
  {
   "cell_type": "markdown",
   "metadata": {},
   "source": [
    "## How To Use\n",
    "### Historical Data"
   ]
  },
  {
   "cell_type": "code",
   "execution_count": 9,
   "metadata": {},
   "outputs": [
    {
     "name": "stdout",
     "output_type": "stream",
     "text": [
      "               Open     High      Low    Close      Volume    Market_cap\n",
      "Date                                                                    \n",
      "2018-03-01  10385.0  11052.3  10352.7  10951.0  7317279744  175427076096\n",
      "2018-03-02  10977.4  11189.0  10850.1  11086.4  7620590080  185456082944\n",
      "2018-03-03  11101.9  11528.2  11002.4  11489.7  6690570240  187581399040\n",
      "2018-03-04  11497.4  11512.6  11136.1  11512.6  6084149760  194289254400\n",
      "2018-03-05  11532.4  11704.1  11443.9  11573.3  6468539904  194902605824\n"
     ]
    }
   ],
   "source": [
    "# import the Historical class\n",
    "from coinsta.core import Historical\n",
    "from datetime import date\n",
    "\n",
    "# specify dates considered\n",
    "start = date(2018, 3, 1)\n",
    "end = date(2018, 6,1)\n",
    "\n",
    "# get data\n",
    "coin_spec = Historical('btc', start=start, end=end)\n",
    "btc_data = coin_spec.get_data()\n",
    "print(btc_data.head())"
   ]
  },
  {
   "cell_type": "markdown",
   "metadata": {},
   "source": [
    "### Historical Snapshots"
   ]
  },
  {
   "cell_type": "code",
   "execution_count": 18,
   "metadata": {},
   "outputs": [],
   "source": [
    "from coinsta.core import HistoricalSnapshot\n",
    "from datetime import date\n",
    "snap_date = date(2018, 7, 29)\n",
    "july_2018 = HistoricalSnapshot(snap_date)\n",
    "july_2018_snapshot = july_2018.get_snapshot()"
   ]
  },
  {
   "cell_type": "markdown",
   "metadata": {},
   "source": [
    "### Current Data"
   ]
  },
  {
   "cell_type": "code",
   "execution_count": 20,
   "metadata": {},
   "outputs": [],
   "source": [
    "# import the Current class \n",
    "from coinsta.core import Current\n",
    "\n",
    "# get current market information on a specified crypto\n",
    "#btc_current = Current.get_current('btc')\n",
    "#print(btc_current)\n",
    "\n",
    "# get the top 100 cryptos (in terms of market cap)\n",
    "current_100 = Current.top_100()"
   ]
  }
 ],
 "metadata": {
  "kernelspec": {
   "display_name": "Python 3",
   "language": "python",
   "name": "python3"
  },
  "language_info": {
   "codemirror_mode": {
    "name": "ipython",
    "version": 3
   },
   "file_extension": ".py",
   "mimetype": "text/x-python",
   "name": "python",
   "nbconvert_exporter": "python",
   "pygments_lexer": "ipython3",
   "version": "3.6.5"
  }
 },
 "nbformat": 4,
 "nbformat_minor": 2
}
