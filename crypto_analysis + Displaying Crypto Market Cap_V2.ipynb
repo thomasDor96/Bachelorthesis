{
 "cells": [
  {
   "cell_type": "code",
   "execution_count": 2,
   "metadata": {},
   "outputs": [
    {
     "name": "stdout",
     "output_type": "stream",
     "text": [
      "Collecting coinsta\n",
      "  Downloading https://files.pythonhosted.org/packages/ee/63/3f923ceb9c799292dbb96ba67b00b2059e43da3253b59474d6d7e2e76a5e/coinsta-0.1.3.tar.gz\n",
      "Requirement already satisfied: pandas~=0.23.1 in /srv/conda/lib/python3.6/site-packages (from coinsta)\n",
      "Collecting lxml~=4.2.2 (from coinsta)\n",
      "  Downloading https://files.pythonhosted.org/packages/eb/59/1db3c9c27049e4f832691c6d642df1f5b64763f73942172c44fee22de397/lxml-4.2.4-cp36-cp36m-manylinux1_x86_64.whl (5.8MB)\n",
      "\u001b[K    100% |████████████████████████████████| 5.8MB 105kB/s eta 0:00:01\n",
      "\u001b[?25hCollecting requests~=2.19.1 (from coinsta)\n",
      "  Downloading https://files.pythonhosted.org/packages/65/47/7e02164a2a3db50ed6d8a6ab1d6d60b69c4c3fdf57a284257925dfc12bda/requests-2.19.1-py2.py3-none-any.whl (91kB)\n",
      "\u001b[K    100% |████████████████████████████████| 92kB 5.9MB/s eta 0:00:01\n",
      "\u001b[?25hRequirement already satisfied: numpy>=1.9.0 in /srv/conda/lib/python3.6/site-packages (from pandas~=0.23.1->coinsta)\n",
      "Requirement already satisfied: pytz>=2011k in /srv/conda/lib/python3.6/site-packages (from pandas~=0.23.1->coinsta)\n",
      "Requirement already satisfied: python-dateutil>=2.5.0 in /srv/conda/lib/python3.6/site-packages (from pandas~=0.23.1->coinsta)\n",
      "Requirement already satisfied: chardet<3.1.0,>=3.0.2 in /srv/conda/lib/python3.6/site-packages (from requests~=2.19.1->coinsta)\n",
      "Requirement already satisfied: idna<2.8,>=2.5 in /srv/conda/lib/python3.6/site-packages (from requests~=2.19.1->coinsta)\n",
      "Requirement already satisfied: certifi>=2017.4.17 in /srv/conda/lib/python3.6/site-packages (from requests~=2.19.1->coinsta)\n",
      "Requirement already satisfied: urllib3<1.24,>=1.21.1 in /srv/conda/lib/python3.6/site-packages (from requests~=2.19.1->coinsta)\n",
      "Requirement already satisfied: six>=1.5 in /srv/conda/lib/python3.6/site-packages (from python-dateutil>=2.5.0->pandas~=0.23.1->coinsta)\n",
      "Building wheels for collected packages: coinsta\n",
      "  Running setup.py bdist_wheel for coinsta ... \u001b[?25ldone\n",
      "\u001b[?25h  Stored in directory: /home/jovyan/.cache/pip/wheels/a7/a8/e7/9ef82dfcc533c9ac7f283250502ec5d3612dfbbe6355f459b9\n",
      "Successfully built coinsta\n",
      "Installing collected packages: lxml, requests, coinsta\n",
      "  Found existing installation: requests 2.18.4\n",
      "    Uninstalling requests-2.18.4:\n",
      "      Successfully uninstalled requests-2.18.4\n",
      "Successfully installed coinsta-0.1.3 lxml-4.2.4 requests-2.19.1\n",
      "\u001b[33mYou are using pip version 9.0.3, however version 18.0 is available.\n",
      "You should consider upgrading via the 'pip install --upgrade pip' command.\u001b[0m\n"
     ]
    },
    {
     "name": "stderr",
     "output_type": "stream",
     "text": [
      "/srv/conda/lib/python3.6/importlib/_bootstrap.py:219: RuntimeWarning: numpy.dtype size changed, may indicate binary incompatibility. Expected 96, got 88\n",
      "  return f(*args, **kwds)\n",
      "/srv/conda/lib/python3.6/importlib/_bootstrap.py:219: RuntimeWarning: numpy.dtype size changed, may indicate binary incompatibility. Expected 96, got 88\n",
      "  return f(*args, **kwds)\n"
     ]
    }
   ],
   "source": [
    "# import the Historical class\n",
    "!pip install coinsta\n",
    "from coinsta.core import Historical\n",
    "from datetime import date\n"
   ]
  },
  {
   "cell_type": "code",
   "execution_count": 8,
   "metadata": {},
   "outputs": [
    {
     "data": {
      "text/html": [
       "<div>\n",
       "<style scoped>\n",
       "    .dataframe tbody tr th:only-of-type {\n",
       "        vertical-align: middle;\n",
       "    }\n",
       "\n",
       "    .dataframe tbody tr th {\n",
       "        vertical-align: top;\n",
       "    }\n",
       "\n",
       "    .dataframe thead th {\n",
       "        text-align: right;\n",
       "    }\n",
       "</style>\n",
       "<table border=\"1\" class=\"dataframe\">\n",
       "  <thead>\n",
       "    <tr style=\"text-align: right;\">\n",
       "      <th></th>\n",
       "      <th>name</th>\n",
       "      <th>symbol</th>\n",
       "      <th>rank</th>\n",
       "      <th>price</th>\n",
       "      <th>volume_24h</th>\n",
       "      <th>market_cap</th>\n",
       "      <th>percent_change_1h</th>\n",
       "      <th>percent_change_24h</th>\n",
       "      <th>percent_change_7d</th>\n",
       "    </tr>\n",
       "  </thead>\n",
       "  <tbody>\n",
       "    <tr>\n",
       "      <th>0</th>\n",
       "      <td>Bitcoin</td>\n",
       "      <td>BTC</td>\n",
       "      <td>1</td>\n",
       "      <td>7066.382183</td>\n",
       "      <td>4.482023e+09</td>\n",
       "      <td>1.218076e+11</td>\n",
       "      <td>-0.05</td>\n",
       "      <td>1.98</td>\n",
       "      <td>5.40</td>\n",
       "    </tr>\n",
       "    <tr>\n",
       "      <th>1</th>\n",
       "      <td>Ethereum</td>\n",
       "      <td>ETH</td>\n",
       "      <td>2</td>\n",
       "      <td>293.426742</td>\n",
       "      <td>1.486725e+09</td>\n",
       "      <td>2.981861e+10</td>\n",
       "      <td>-0.06</td>\n",
       "      <td>2.61</td>\n",
       "      <td>1.83</td>\n",
       "    </tr>\n",
       "    <tr>\n",
       "      <th>2</th>\n",
       "      <td>XRP</td>\n",
       "      <td>XRP</td>\n",
       "      <td>3</td>\n",
       "      <td>0.346251</td>\n",
       "      <td>3.053794e+08</td>\n",
       "      <td>1.371784e+10</td>\n",
       "      <td>-0.37</td>\n",
       "      <td>1.37</td>\n",
       "      <td>1.12</td>\n",
       "    </tr>\n",
       "    <tr>\n",
       "      <th>3</th>\n",
       "      <td>Bitcoin Cash</td>\n",
       "      <td>BCH</td>\n",
       "      <td>4</td>\n",
       "      <td>556.381791</td>\n",
       "      <td>4.135264e+08</td>\n",
       "      <td>9.635823e+09</td>\n",
       "      <td>-0.16</td>\n",
       "      <td>1.80</td>\n",
       "      <td>0.62</td>\n",
       "    </tr>\n",
       "    <tr>\n",
       "      <th>4</th>\n",
       "      <td>EOS</td>\n",
       "      <td>EOS</td>\n",
       "      <td>5</td>\n",
       "      <td>5.931147</td>\n",
       "      <td>6.431644e+08</td>\n",
       "      <td>5.375073e+09</td>\n",
       "      <td>0.64</td>\n",
       "      <td>10.76</td>\n",
       "      <td>16.25</td>\n",
       "    </tr>\n",
       "  </tbody>\n",
       "</table>\n",
       "</div>"
      ],
      "text/plain": [
       "           name symbol  rank        price    volume_24h    market_cap  \\\n",
       "0       Bitcoin    BTC     1  7066.382183  4.482023e+09  1.218076e+11   \n",
       "1      Ethereum    ETH     2   293.426742  1.486725e+09  2.981861e+10   \n",
       "2           XRP    XRP     3     0.346251  3.053794e+08  1.371784e+10   \n",
       "3  Bitcoin Cash    BCH     4   556.381791  4.135264e+08  9.635823e+09   \n",
       "4           EOS    EOS     5     5.931147  6.431644e+08  5.375073e+09   \n",
       "\n",
       "   percent_change_1h  percent_change_24h  percent_change_7d  \n",
       "0              -0.05                1.98               5.40  \n",
       "1              -0.06                2.61               1.83  \n",
       "2              -0.37                1.37               1.12  \n",
       "3              -0.16                1.80               0.62  \n",
       "4               0.64               10.76              16.25  "
      ]
     },
     "execution_count": 8,
     "metadata": {},
     "output_type": "execute_result"
    }
   ],
   "source": [
    "# import the Current class \n",
    "from coinsta.core import Current\n",
    "\n",
    "# get current market information on a specified crypto\n",
    "#btc_current = Current.get_current('btc')\n",
    "#print(btc_current)\n",
    "\n",
    "# get the top 100 cryptos (in terms of market cap)\n",
    "current_100 = Current.top_100()\n",
    "df = current_100\n",
    "df.head()\n",
    "\n",
    "# get global overview of crypto markets\n",
    "#glo_info = Current.global_info()\n",
    "#print(glo_info)"
   ]
  },
  {
   "cell_type": "code",
   "execution_count": 11,
   "metadata": {},
   "outputs": [],
   "source": [
    "df2 = df.loc[:, ['name', 'market_cap']]"
   ]
  },
  {
   "cell_type": "code",
   "execution_count": 28,
   "metadata": {},
   "outputs": [],
   "source": [
    "df2[\"Label\"] = df2[\"name\"] + \" \\n $\" + df2[\"market_cap\"].map('{:,}'.format).astype(\"str\")\n",
    "df3 = df2.iloc[0:10]"
   ]
  },
  {
   "cell_type": "code",
   "execution_count": 29,
   "metadata": {},
   "outputs": [
    {
     "name": "stdout",
     "output_type": "stream",
     "text": [
      "Requirement already satisfied: plotly in /srv/conda/lib/python3.6/site-packages\n",
      "Requirement already satisfied: requests in /srv/conda/lib/python3.6/site-packages (from plotly)\n",
      "Requirement already satisfied: retrying>=1.3.3 in /srv/conda/lib/python3.6/site-packages (from plotly)\n",
      "Requirement already satisfied: six in /srv/conda/lib/python3.6/site-packages (from plotly)\n",
      "Requirement already satisfied: decorator>=4.0.6 in /srv/conda/lib/python3.6/site-packages (from plotly)\n",
      "Requirement already satisfied: nbformat>=4.2 in /srv/conda/lib/python3.6/site-packages (from plotly)\n",
      "Requirement already satisfied: pytz in /srv/conda/lib/python3.6/site-packages (from plotly)\n",
      "Requirement already satisfied: chardet<3.1.0,>=3.0.2 in /srv/conda/lib/python3.6/site-packages (from requests->plotly)\n",
      "Requirement already satisfied: idna<2.8,>=2.5 in /srv/conda/lib/python3.6/site-packages (from requests->plotly)\n",
      "Requirement already satisfied: certifi>=2017.4.17 in /srv/conda/lib/python3.6/site-packages (from requests->plotly)\n",
      "Requirement already satisfied: urllib3<1.24,>=1.21.1 in /srv/conda/lib/python3.6/site-packages (from requests->plotly)\n",
      "Requirement already satisfied: jupyter-core in /srv/conda/lib/python3.6/site-packages (from nbformat>=4.2->plotly)\n",
      "Requirement already satisfied: traitlets>=4.1 in /srv/conda/lib/python3.6/site-packages (from nbformat>=4.2->plotly)\n",
      "Requirement already satisfied: jsonschema!=2.5.0,>=2.4 in /srv/conda/lib/python3.6/site-packages (from nbformat>=4.2->plotly)\n",
      "Requirement already satisfied: ipython-genutils in /srv/conda/lib/python3.6/site-packages (from nbformat>=4.2->plotly)\n",
      "\u001b[33mYou are using pip version 9.0.3, however version 18.0 is available.\n",
      "You should consider upgrading via the 'pip install --upgrade pip' command.\u001b[0m\n"
     ]
    },
    {
     "data": {
      "text/html": [
       "<script>requirejs.config({paths: { 'plotly': ['https://cdn.plot.ly/plotly-latest.min']},});if(!window.Plotly) {{require(['plotly'],function(plotly) {window.Plotly=plotly;});}}</script>"
      ],
      "text/vnd.plotly.v1+html": [
       "<script>requirejs.config({paths: { 'plotly': ['https://cdn.plot.ly/plotly-latest.min']},});if(!window.Plotly) {{require(['plotly'],function(plotly) {window.Plotly=plotly;});}}</script>"
      ]
     },
     "metadata": {},
     "output_type": "display_data"
    }
   ],
   "source": [
    "#!pip install squarify\n",
    "#!pip install seaborn\n",
    "#!pip install plotly\n",
    "import squarify\n",
    "import sklearn\n",
    "import datetime as dt\n",
    "import pandas as pd\n",
    "import numpy as np\n",
    "import seaborn as sns\n",
    "import matplotlib.pyplot as plt\n",
    "from matplotlib import style\n",
    "%matplotlib inline\n",
    "from plotly import tools\n",
    "import plotly.offline as py\n",
    "py.init_notebook_mode(connected=True)\n",
    "import plotly.graph_objs as g_obj"
   ]
  },
  {
   "cell_type": "code",
   "execution_count": 33,
   "metadata": {},
   "outputs": [
    {
     "data": {
      "image/png": "[encoded data removed]",
      "text/plain": [
       "<Figure size 1440x576 with 1 Axes>"
      ]
     },
     "metadata": {},
     "output_type": "display_data"
    }
   ],
   "source": [
    "fig, ax = plt.subplots(figsize=(20,8))\n",
    "squarify.plot(sizes=df3['market_cap'], label=df3['Label'], alpha=.8 )\n",
    "plt.axis('off')\n",
    "plt.rc('font', size=10)  \n",
    "plt.title(\"Cryptocurrency Market Cap\", fontsize=32, color=\"Black\")\n",
    "ttl = ax.title\n",
    "ttl.set_position([.5, 1.05])\n",
    "plt.show()"
   ]
  }
 ],
 "metadata": {
  "kernelspec": {
   "display_name": "Python 3",
   "language": "python",
   "name": "python3"
  },
  "language_info": {
   "codemirror_mode": {
    "name": "ipython",
    "version": 3
   },
   "file_extension": ".py",
   "mimetype": "text/x-python",
   "name": "python",
   "nbconvert_exporter": "python",
   "pygments_lexer": "ipython3",
   "version": "3.6.5"
  }
 },
 "nbformat": 4,
 "nbformat_minor": 2
}
