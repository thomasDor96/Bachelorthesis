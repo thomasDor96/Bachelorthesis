{
 "cells": [
  {
   "cell_type": "markdown",
   "metadata": {},
   "source": [
    "### https://github.com/guptarohit/cryptoCMD"
   ]
  },
  {
   "cell_type": "code",
   "execution_count": 8,
   "metadata": {},
   "outputs": [
    {
     "name": "stdout",
     "output_type": "stream",
     "text": [
      "Requirement already satisfied: cryptocmd in /srv/conda/lib/python3.6/site-packages\n",
      "Requirement already satisfied: pyquery in /srv/conda/lib/python3.6/site-packages (from cryptocmd)\n",
      "Requirement already satisfied: requests in /srv/conda/lib/python3.6/site-packages (from cryptocmd)\n",
      "Requirement already satisfied: cssselect>0.7.9 in /srv/conda/lib/python3.6/site-packages (from pyquery->cryptocmd)\n",
      "Requirement already satisfied: lxml>=2.1 in /srv/conda/lib/python3.6/site-packages (from pyquery->cryptocmd)\n",
      "Requirement already satisfied: chardet<3.1.0,>=3.0.2 in /srv/conda/lib/python3.6/site-packages (from requests->cryptocmd)\n",
      "Requirement already satisfied: idna<2.7,>=2.5 in /srv/conda/lib/python3.6/site-packages (from requests->cryptocmd)\n",
      "Requirement already satisfied: urllib3<1.23,>=1.21.1 in /srv/conda/lib/python3.6/site-packages (from requests->cryptocmd)\n",
      "Requirement already satisfied: certifi>=2017.4.17 in /srv/conda/lib/python3.6/site-packages (from requests->cryptocmd)\n",
      "\u001b[33mYou are using pip version 9.0.3, however version 18.0 is available.\n",
      "You should consider upgrading via the 'pip install --upgrade pip' command.\u001b[0m\n"
     ]
    }
   ],
   "source": [
    "!pip install cryptocmd"
   ]
  },
  {
   "cell_type": "markdown",
   "metadata": {},
   "source": [
    "## CoinMarketCap Scraper\n",
    "#### Following methods are available to get data in multiple formats from https://coinmarketcap.com"
   ]
  },
  {
   "cell_type": "markdown",
   "metadata": {},
   "source": [
    "### To get all time historical data of a cryptocurrency"
   ]
  },
  {
   "cell_type": "code",
   "execution_count": 6,
   "metadata": {},
   "outputs": [],
   "source": [
    "from cryptocmd import CmcScraper\n",
    "\n",
    "# initialise scraper without passing time interval\n",
    "scraper = CmcScraper('BTC')\n",
    "\n",
    "# data as list of list in a variable\n",
    "headers, data = scraper.get_data()\n",
    "\n",
    "# export the data as csv file, you can also pass optional name parameter\n",
    "scraper.export_csv('xrp_all_time.csv')\n",
    "\n",
    "# Pandas dataFrame for the same data\n",
    "df = scraper.get_dataframe()"
   ]
  },
  {
   "cell_type": "markdown",
   "metadata": {},
   "source": [
    "### To get data of a cryptocurrency for some days"
   ]
  },
  {
   "cell_type": "code",
   "execution_count": 9,
   "metadata": {},
   "outputs": [],
   "source": [
    "from cryptocmd import CmcScraper\n",
    "\n",
    "# initialise scraper\n",
    "scraper = CmcScraper('XRP', '15-10-2017', '25-10-2017')\n",
    "\n",
    "# get data as list of list\n",
    "headers, data = scraper.get_data()\n",
    "\n",
    "# export the data to csv\n",
    "scraper.export_csv()\n",
    "\n",
    "# get dataframe for the data\n",
    "df = scraper.get_dataframe()"
   ]
  }
 ],
 "metadata": {
  "kernelspec": {
   "display_name": "Python 3",
   "language": "python",
   "name": "python3"
  },
  "language_info": {
   "codemirror_mode": {
    "name": "ipython",
    "version": 3
   },
   "file_extension": ".py",
   "mimetype": "text/x-python",
   "name": "python",
   "nbconvert_exporter": "python",
   "pygments_lexer": "ipython3",
   "version": "3.6.5"
  }
 },
 "nbformat": 4,
 "nbformat_minor": 2
}
