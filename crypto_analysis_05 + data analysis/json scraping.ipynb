{
 "cells": [
  {
   "cell_type": "code",
   "execution_count": 4,
   "metadata": {
    "collapsed": true
   },
   "outputs": [],
   "source": [
    "import requests\n",
    "import json\n",
    "import pandas as pd\n",
    "\n",
    "url = 'https://api.coinmarketcap.com/v1/ticker/?limit=6'\n",
    "\n",
    "\n",
    "response = requests.get(url)"
   ]
  },
  {
   "cell_type": "code",
   "execution_count": 2,
   "metadata": {},
   "outputs": [
    {
     "name": "stdout",
     "output_type": "stream",
     "text": [
      "[{'id': 'bitcoin', 'name': 'Bitcoin', 'symbol': 'BTC', 'rank': '1', 'price_usd': '7513.97', 'price_btc': '1.0', '24h_volume_usd': '5774970000.0', 'market_cap_usd': '128206925276', 'available_supply': '17062475.0', 'total_supply': '17062475.0', 'max_supply': '21000000.0', 'percent_change_1h': '0.44', 'percent_change_24h': '3.88', 'percent_change_7d': '-7.81', 'last_updated': '1527625473'}, {'id': 'ethereum', 'name': 'Ethereum', 'symbol': 'ETH', 'rank': '2', 'price_usd': '569.748', 'price_btc': '0.0759937', '24h_volume_usd': '2418940000.0', 'market_cap_usd': '56829655414.0', 'available_supply': '99745248.0', 'total_supply': '99745248.0', 'max_supply': None, 'percent_change_1h': '0.44', 'percent_change_24h': '8.07', 'percent_change_7d': '-14.22', 'last_updated': '1527625459'}, {'id': 'ripple', 'name': 'Ripple', 'symbol': 'XRP', 'rank': '3', 'price_usd': '0.60867', 'price_btc': '0.00008119', '24h_volume_usd': '405736000.0', 'market_cap_usd': '23853757968.0', 'available_supply': '39189968239.0', 'total_supply': '99992233977.0', 'max_supply': '100000000000', 'percent_change_1h': '0.34', 'percent_change_24h': '5.91', 'percent_change_7d': '-7.77', 'last_updated': '1527625442'}, {'id': 'bitcoin-cash', 'name': 'Bitcoin Cash', 'symbol': 'BCH', 'rank': '4', 'price_usd': '994.649', 'price_btc': '0.132668', '24h_volume_usd': '711377000.0', 'market_cap_usd': '17062843035.0', 'available_supply': '17154638.0', 'total_supply': '17154638.0', 'max_supply': '21000000.0', 'percent_change_1h': '1.12', 'percent_change_24h': '7.91', 'percent_change_7d': '-14.16', 'last_updated': '1527625461'}, {'id': 'eos', 'name': 'EOS', 'symbol': 'EOS', 'rank': '5', 'price_usd': '12.3621', 'price_btc': '0.00164887', '24h_volume_usd': '1962470000.0', 'market_cap_usd': '10975128041.0', 'available_supply': '887804503.0', 'total_supply': '900000000.0', 'max_supply': '1000000000.0', 'percent_change_1h': '0.17', 'percent_change_24h': '1.55', 'percent_change_7d': '-2.56', 'last_updated': '1527625459'}, {'id': 'litecoin', 'name': 'Litecoin', 'symbol': 'LTC', 'rank': '6', 'price_usd': '120.601', 'price_btc': '0.0160859', '24h_volume_usd': '361655000.0', 'market_cap_usd': '6844142701.0', 'available_supply': '56750298.0', 'total_supply': '56750298.0', 'max_supply': '84000000.0', 'percent_change_1h': '0.04', 'percent_change_24h': '5.75', 'percent_change_7d': '-7.72', 'last_updated': '1527625442'}]\n"
     ]
    }
   ],
   "source": [
    "json = response.json()\n",
    "print(json)"
   ]
  },
  {
   "cell_type": "code",
   "execution_count": 8,
   "metadata": {},
   "outputs": [],
   "source": [
    "import matplotlib.pyplot as plt"
   ]
  },
  {
   "cell_type": "code",
   "execution_count": null,
   "metadata": {
    "collapsed": true
   },
   "outputs": [],
   "source": []
  }
 ],
 "metadata": {
  "kernelspec": {
   "display_name": "Python 3",
   "language": "python",
   "name": "python3"
  },
  "language_info": {
   "codemirror_mode": {
    "name": "ipython",
    "version": 3
   },
   "file_extension": ".py",
   "mimetype": "text/x-python",
   "name": "python",
   "nbconvert_exporter": "python",
   "pygments_lexer": "ipython3",
   "version": "3.6.3"
  }
 },
 "nbformat": 4,
 "nbformat_minor": 2
}
